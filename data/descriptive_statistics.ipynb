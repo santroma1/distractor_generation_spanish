{
 "cells": [
  {
   "cell_type": "code",
   "execution_count": 1,
   "metadata": {},
   "outputs": [],
   "source": [
    "import numpy as np\n",
    "import pandas as pd\n",
    "import json"
   ]
  },
  {
   "cell_type": "code",
   "execution_count": 2,
   "metadata": {},
   "outputs": [],
   "source": [
    "# file_name = \"training.json\"\n",
    "# file_output = \"training_stats.csv\"\n",
    "# data_name = \"training\""
   ]
  },
  {
   "cell_type": "code",
   "execution_count": 3,
   "metadata": {},
   "outputs": [],
   "source": [
    "# file_name = \"dev.json\"\n",
    "# file_output = \"dev_stats.csv\"\n",
    "# data_name = \"dev\""
   ]
  },
  {
   "cell_type": "code",
   "execution_count": 4,
   "metadata": {},
   "outputs": [],
   "source": [
    "file_name = \"test.json\"\n",
    "file_output = \"test_stats.csv\"\n",
    "data_name = \"test\""
   ]
  },
  {
   "cell_type": "code",
   "execution_count": 5,
   "metadata": {},
   "outputs": [],
   "source": [
    "f = open(file_name)\n",
    "data = json.load(f)\n",
    "f.close()"
   ]
  },
  {
   "cell_type": "code",
   "execution_count": 6,
   "metadata": {},
   "outputs": [],
   "source": [
    "arr = data['data']\n",
    "N = len(arr)"
   ]
  },
  {
   "cell_type": "code",
   "execution_count": 7,
   "metadata": {},
   "outputs": [],
   "source": [
    "final_dict = {}"
   ]
  },
  {
   "attachments": {},
   "cell_type": "markdown",
   "metadata": {},
   "source": [
    "#### NUmber of texts"
   ]
  },
  {
   "cell_type": "code",
   "execution_count": 8,
   "metadata": {},
   "outputs": [
    {
     "data": {
      "text/plain": [
       "48"
      ]
     },
     "execution_count": 8,
     "metadata": {},
     "output_type": "execute_result"
    }
   ],
   "source": [
    "text_set = set()\n",
    "for element in arr:\n",
    "    text_set.add(element[\"context\"])\n",
    "\n",
    "n_texts = len(text_set)\n",
    "final_dict[\"# of texts\"] = n_texts\n",
    "n_texts"
   ]
  },
  {
   "attachments": {},
   "cell_type": "markdown",
   "metadata": {},
   "source": [
    "#### Count Questions"
   ]
  },
  {
   "cell_type": "code",
   "execution_count": 9,
   "metadata": {},
   "outputs": [
    {
     "data": {
      "text/plain": [
       "50"
      ]
     },
     "execution_count": 9,
     "metadata": {},
     "output_type": "execute_result"
    }
   ],
   "source": [
    "n_questions = len(arr)\n",
    "final_dict[\"# of MCQs\"] = n_questions\n",
    "n_questions"
   ]
  },
  {
   "attachments": {},
   "cell_type": "markdown",
   "metadata": {},
   "source": [
    "#### One answer per choice"
   ]
  },
  {
   "cell_type": "code",
   "execution_count": 10,
   "metadata": {},
   "outputs": [],
   "source": [
    "n_answers = np.zeros(N)\n",
    "for idx, element in enumerate(arr):\n",
    "    choices = element[\"choices\"]\n",
    "    n_ans = 0  \n",
    "    for choice in choices:\n",
    "        if choice[\"type\"] == \"correct answer\":\n",
    "            n_ans +=1\n",
    "    n_answers[idx] = n_ans"
   ]
  },
  {
   "cell_type": "code",
   "execution_count": 11,
   "metadata": {},
   "outputs": [
    {
     "data": {
      "text/plain": [
       "array([1., 1., 1., 1., 1., 1., 1., 1., 1., 1., 1., 1., 1., 1., 1., 1., 1.,\n",
       "       1., 1., 1., 1., 1., 1., 1., 1., 1., 1., 1., 1., 1., 1., 1., 1., 1.,\n",
       "       1., 1., 1., 1., 1., 1., 1., 1., 1., 1., 1., 1., 1., 1., 1., 1.])"
      ]
     },
     "execution_count": 11,
     "metadata": {},
     "output_type": "execute_result"
    }
   ],
   "source": [
    "n_answers"
   ]
  },
  {
   "cell_type": "code",
   "execution_count": 12,
   "metadata": {},
   "outputs": [],
   "source": [
    "for element in n_answers:\n",
    "    assert element == 1"
   ]
  },
  {
   "attachments": {},
   "cell_type": "markdown",
   "metadata": {},
   "source": [
    "#### Number of distractors"
   ]
  },
  {
   "cell_type": "code",
   "execution_count": 13,
   "metadata": {},
   "outputs": [],
   "source": [
    "n_distractors = np.zeros(N)\n",
    "for idx, element in enumerate(arr):\n",
    "    choices = element[\"choices\"]\n",
    "    n_dist = 0 \n",
    "    for choice in choices:\n",
    "        if choice[\"type\"] == \"distractor\":\n",
    "            n_dist +=1\n",
    "    assert n_dist < 5\n",
    "    n_distractors[idx] = n_dist"
   ]
  },
  {
   "cell_type": "code",
   "execution_count": 14,
   "metadata": {},
   "outputs": [
    {
     "data": {
      "text/plain": [
       "array([3., 3., 3., 3., 3., 4., 2., 4., 2., 4., 4., 4., 4., 3., 3., 3., 4.,\n",
       "       3., 4., 3., 3., 3., 4., 2., 4., 2., 4., 4., 3., 2., 4., 4., 4., 4.,\n",
       "       3., 2., 4., 2., 2., 2., 3., 3., 3., 4., 3., 4., 2., 3., 3., 4.])"
      ]
     },
     "execution_count": 14,
     "metadata": {},
     "output_type": "execute_result"
    }
   ],
   "source": [
    "n_distractors"
   ]
  },
  {
   "cell_type": "code",
   "execution_count": 37,
   "metadata": {},
   "outputs": [
    {
     "data": {
      "text/plain": [
       "(array([2., 3., 4.]), array([10, 20, 20]))"
      ]
     },
     "execution_count": 37,
     "metadata": {},
     "output_type": "execute_result"
    }
   ],
   "source": [
    "np.unique(n_distractors, return_counts=True)"
   ]
  },
  {
   "cell_type": "code",
   "execution_count": 15,
   "metadata": {},
   "outputs": [],
   "source": [
    "n_dist_mean = np.mean(n_distractors)\n",
    "n_dist_std = np.std(n_distractors)"
   ]
  },
  {
   "cell_type": "code",
   "execution_count": 16,
   "metadata": {},
   "outputs": [
    {
     "name": "stdout",
     "output_type": "stream",
     "text": [
      "3.2\n",
      "0.7483314773547883\n"
     ]
    },
    {
     "data": {
      "text/plain": [
       "'3.20 +- 0.75'"
      ]
     },
     "execution_count": 16,
     "metadata": {},
     "output_type": "execute_result"
    }
   ],
   "source": [
    "print(n_dist_mean)\n",
    "print(n_dist_std)\n",
    "final_dict[\"# of D\"] = f\"{n_dist_mean:0.2f} +- {n_dist_std:0.2f}\"\n",
    "final_dict[\"# of D\"]"
   ]
  },
  {
   "attachments": {},
   "cell_type": "markdown",
   "metadata": {},
   "source": [
    "### Length of texts"
   ]
  },
  {
   "cell_type": "code",
   "execution_count": 17,
   "metadata": {},
   "outputs": [],
   "source": [
    "def count_words(_string):\n",
    "    arr = _string.split(\" \")\n",
    "    return len(arr)"
   ]
  },
  {
   "cell_type": "code",
   "execution_count": 18,
   "metadata": {},
   "outputs": [
    {
     "data": {
      "text/plain": [
       "array([133., 118., 160., 197., 136., 136., 119., 192., 210.,  93., 182.,\n",
       "       222., 139., 203., 161., 184., 108., 213., 106., 149., 194., 146.,\n",
       "       129., 178., 264., 117., 101.,  76., 193., 195., 256.,  82., 184.,\n",
       "       114., 200., 145., 113., 101., 101., 153., 125., 171., 108., 449.,\n",
       "       212., 127., 145., 150., 121.,  98.])"
      ]
     },
     "execution_count": 18,
     "metadata": {},
     "output_type": "execute_result"
    }
   ],
   "source": [
    "len_texts = np.zeros(N)\n",
    "for idx, element in enumerate(arr):\n",
    "    context = element[\"context\"]\n",
    "    len_texts[idx] = count_words(context)\n",
    "\n",
    "len_texts"
   ]
  },
  {
   "cell_type": "code",
   "execution_count": 19,
   "metadata": {},
   "outputs": [
    {
     "data": {
      "text/plain": [
       "449.0"
      ]
     },
     "execution_count": 19,
     "metadata": {},
     "output_type": "execute_result"
    }
   ],
   "source": [
    "max_length_text = np.max(len_texts)\n",
    "max_length_text"
   ]
  },
  {
   "cell_type": "code",
   "execution_count": 20,
   "metadata": {},
   "outputs": [
    {
     "name": "stdout",
     "output_type": "stream",
     "text": [
      "158.18\n",
      "60.75053580010633\n"
     ]
    }
   ],
   "source": [
    "text_mean = np.mean(len_texts)\n",
    "text_std = np.std(len_texts)\n",
    "print(text_mean)\n",
    "print(text_std)"
   ]
  },
  {
   "cell_type": "code",
   "execution_count": 21,
   "metadata": {},
   "outputs": [
    {
     "data": {
      "text/plain": [
       "'158.18 +- 60.75'"
      ]
     },
     "execution_count": 21,
     "metadata": {},
     "output_type": "execute_result"
    }
   ],
   "source": [
    "final_dict[\"Len(Text)\"] = f\"{text_mean:0.2f} +- {text_std:0.2f}\"\n",
    "final_dict[\"Max(Text)\"] = max_length_text\n",
    "final_dict[\"Len(Text)\"]"
   ]
  },
  {
   "attachments": {},
   "cell_type": "markdown",
   "metadata": {},
   "source": [
    "#### Length of answers"
   ]
  },
  {
   "cell_type": "code",
   "execution_count": 22,
   "metadata": {},
   "outputs": [
    {
     "data": {
      "text/plain": [
       "array([ 2.,  1., 10.,  8.,  7.,  2.,  3.,  8.,  2.,  1.,  1.,  5.,  3.,\n",
       "        9.,  4.,  2.,  3.,  7.,  2., 11.,  3.,  1.,  1.,  1., 12.,  1.,\n",
       "        4.,  1.,  2.,  1., 12.,  1.,  4.,  1.,  1.,  2.,  4.,  1., 13.,\n",
       "       15.,  1.,  5.,  9.,  9., 11.,  5., 19.,  3.,  2.,  2.])"
      ]
     },
     "execution_count": 22,
     "metadata": {},
     "output_type": "execute_result"
    }
   ],
   "source": [
    "len_answers = np.zeros(N)\n",
    "for idx, element in enumerate(arr):\n",
    "    choices = element[\"choices\"]\n",
    "    for choice in choices:\n",
    "        if choice[\"type\"] == \"correct answer\":\n",
    "            ans = choice[\"text\"]\n",
    "            len_answers[idx] = count_words(ans)\n",
    "\n",
    "len_answers"
   ]
  },
  {
   "cell_type": "code",
   "execution_count": 23,
   "metadata": {},
   "outputs": [
    {
     "data": {
      "text/plain": [
       "19.0"
      ]
     },
     "execution_count": 23,
     "metadata": {},
     "output_type": "execute_result"
    }
   ],
   "source": [
    "max_length_ans = np.max(len_answers)\n",
    "max_length_ans"
   ]
  },
  {
   "cell_type": "code",
   "execution_count": 24,
   "metadata": {},
   "outputs": [
    {
     "name": "stdout",
     "output_type": "stream",
     "text": [
      "4.76\n",
      "4.370629245314683\n"
     ]
    }
   ],
   "source": [
    "ans_mean = np.mean(len_answers)\n",
    "ans_std = np.std(len_answers)\n",
    "print(ans_mean)\n",
    "print(ans_std)"
   ]
  },
  {
   "cell_type": "code",
   "execution_count": 25,
   "metadata": {},
   "outputs": [
    {
     "data": {
      "text/plain": [
       "'4.76 +- 4.37'"
      ]
     },
     "execution_count": 25,
     "metadata": {},
     "output_type": "execute_result"
    }
   ],
   "source": [
    "final_dict[\"Len(A)\"] = f\"{ans_mean:0.2f} +- {ans_std:0.2f}\"\n",
    "final_dict[\"Max(A)\"] = max_length_ans\n",
    "final_dict[\"Len(A)\"]"
   ]
  },
  {
   "attachments": {},
   "cell_type": "markdown",
   "metadata": {},
   "source": [
    "#### Length of distractors"
   ]
  },
  {
   "cell_type": "code",
   "execution_count": 26,
   "metadata": {},
   "outputs": [
    {
     "data": {
      "text/plain": [
       "array([ 3,  1,  3,  7,  3,  3,  6, 17,  4, 10, 10, 14, 10,  7,  7,  3,  3,\n",
       "        2,  5,  2,  3,  5,  9,  6,  7,  3,  1,  1,  1,  1,  1,  1,  1,  1,\n",
       "        1,  7,  7,  9,  8,  5,  4,  3,  3,  9, 14, 15,  2,  2,  2,  2,  1,\n",
       "        1,  1,  1,  4,  3,  4,  4,  5,  3,  5,  3,  3,  3,  4,  2,  4,  4,\n",
       "        4,  1,  1,  2,  4,  3,  2,  1,  1,  1, 15,  7,  8,  6,  2,  1,  3,\n",
       "        3,  7,  7,  1,  1,  1,  1,  3,  3,  2,  2,  1,  3,  4,  4,  6,  1,\n",
       "        1,  1,  1,  2,  2,  5,  3,  1,  1,  1,  1,  1,  1,  1,  2,  2,  1,\n",
       "        1,  3,  2,  1,  1, 10, 10, 15,  6,  1,  1,  1,  3,  4,  7,  5,  4,\n",
       "        7,  6, 11,  6,  6,  8,  7, 10,  4,  5,  4,  4, 11, 13,  3,  4,  7,\n",
       "        2,  1,  2,  2,  2,  2,  2])"
      ]
     },
     "execution_count": 26,
     "metadata": {},
     "output_type": "execute_result"
    }
   ],
   "source": [
    "len_distractors = []\n",
    "for idx, element in enumerate(arr):\n",
    "    choices = element[\"choices\"]\n",
    "    for choice in choices:\n",
    "        if choice[\"type\"] == \"distractor\":\n",
    "            dist = choice[\"text\"]\n",
    "            len_distractors.append(count_words(dist))\n",
    "\n",
    "len_distractors = np.array(len_distractors)\n",
    "len_distractors"
   ]
  },
  {
   "cell_type": "code",
   "execution_count": 27,
   "metadata": {},
   "outputs": [
    {
     "data": {
      "text/plain": [
       "17"
      ]
     },
     "execution_count": 27,
     "metadata": {},
     "output_type": "execute_result"
    }
   ],
   "source": [
    "max_length_dist = np.max(len_distractors)\n",
    "max_length_dist"
   ]
  },
  {
   "cell_type": "code",
   "execution_count": 28,
   "metadata": {},
   "outputs": [
    {
     "name": "stdout",
     "output_type": "stream",
     "text": [
      "4.075\n",
      "3.463289621155008\n"
     ]
    }
   ],
   "source": [
    "dist_mean = np.mean(len_distractors)\n",
    "dist_std = np.std(len_distractors)\n",
    "print(dist_mean)\n",
    "print(dist_std)"
   ]
  },
  {
   "cell_type": "code",
   "execution_count": 29,
   "metadata": {},
   "outputs": [
    {
     "data": {
      "text/plain": [
       "'4.08 +- 3.46'"
      ]
     },
     "execution_count": 29,
     "metadata": {},
     "output_type": "execute_result"
    }
   ],
   "source": [
    "final_dict[\"Len(D)\"] = f\"{dist_mean:0.2f} +- {dist_std:0.2f}\"\n",
    "final_dict[\"Max(D)\"] = max_length_dist\n",
    "final_dict[\"Len(D)\"]"
   ]
  },
  {
   "attachments": {},
   "cell_type": "markdown",
   "metadata": {},
   "source": [
    "### Diference ans and Dist"
   ]
  },
  {
   "cell_type": "code",
   "execution_count": 30,
   "metadata": {},
   "outputs": [
    {
     "data": {
      "text/plain": [
       "array([1.        , 3.33333333, 5.66666667, 3.33333333, 1.        ,\n",
       "       1.25      , 0.5       , 1.75      , 1.        , 0.        ,\n",
       "       0.        , 2.75      , 0.75      , 3.66666667, 2.        ,\n",
       "       0.66666667, 1.25      , 2.66666667, 1.5       , 8.        ,\n",
       "       1.        , 0.33333333, 1.5       , 0.        , 4.5       ,\n",
       "       0.5       , 2.        , 0.        , 0.66666667, 0.5       ,\n",
       "       7.75      , 0.        , 1.5       , 0.        , 0.        ,\n",
       "       0.        , 2.25      , 0.        , 3.        , 4.5       ,\n",
       "       0.        , 1.66666667, 3.66666667, 2.75      , 2.66666667,\n",
       "       0.75      , 7.        , 1.66666667, 0.33333333, 0.        ])"
      ]
     },
     "execution_count": 30,
     "metadata": {},
     "output_type": "execute_result"
    }
   ],
   "source": [
    "len_differences = []\n",
    "for idx, element in enumerate(arr):\n",
    "    choices = element[\"choices\"]\n",
    "    dists_length = []\n",
    "    for choice in choices:\n",
    "        if choice[\"type\"] == \"correct answer\":\n",
    "            ans = choice[\"text\"]\n",
    "            ans_length = count_words(ans)\n",
    "        if choice[\"type\"] == \"distractor\":\n",
    "            dist = choice[\"text\"]\n",
    "            dists_length.append(count_words(dist))\n",
    "    \n",
    "    arr_diff = np.array([abs(ans_length-x) for x in dists_length])\n",
    "    diff = np.mean(arr_diff)\n",
    "    len_differences.append(diff)\n",
    "\n",
    "len_differences = np.array(len_differences)\n",
    "len_differences"
   ]
  },
  {
   "cell_type": "code",
   "execution_count": 31,
   "metadata": {},
   "outputs": [
    {
     "data": {
      "text/plain": [
       "8.0"
      ]
     },
     "execution_count": 31,
     "metadata": {},
     "output_type": "execute_result"
    }
   ],
   "source": [
    "max_length_diff = np.max(len_differences)\n",
    "max_length_diff"
   ]
  },
  {
   "cell_type": "code",
   "execution_count": 32,
   "metadata": {},
   "outputs": [
    {
     "name": "stdout",
     "output_type": "stream",
     "text": [
      "1.8516666666666666\n",
      "2.0012003342438702\n"
     ]
    }
   ],
   "source": [
    "diff_mean = np.mean(len_differences)\n",
    "diff_std = np.std(len_differences)\n",
    "print(diff_mean)\n",
    "print(diff_std)"
   ]
  },
  {
   "cell_type": "code",
   "execution_count": 33,
   "metadata": {},
   "outputs": [
    {
     "data": {
      "text/plain": [
       "'1.85 +- 2.00'"
      ]
     },
     "execution_count": 33,
     "metadata": {},
     "output_type": "execute_result"
    }
   ],
   "source": [
    "final_dict[\"|Len(A) - Len(D)|\"] = f\"{diff_mean:0.2f} +- {diff_std:0.2f}\"\n",
    "final_dict[\"Max(|Len(A) - Len(D)|)\"] = max_length_diff\n",
    "final_dict[\"|Len(A) - Len(D)|\"]"
   ]
  },
  {
   "attachments": {},
   "cell_type": "markdown",
   "metadata": {},
   "source": [
    "# Final CSV"
   ]
  },
  {
   "cell_type": "code",
   "execution_count": 34,
   "metadata": {},
   "outputs": [
    {
     "data": {
      "text/plain": [
       "# of texts                             48\n",
       "# of MCQs                              50\n",
       "# of D                       3.20 +- 0.75\n",
       "Len(Text)                 158.18 +- 60.75\n",
       "Max(Text)                           449.0\n",
       "Len(A)                       4.76 +- 4.37\n",
       "Max(A)                               19.0\n",
       "Len(D)                       4.08 +- 3.46\n",
       "Max(D)                                 17\n",
       "|Len(A) - Len(D)|            1.85 +- 2.00\n",
       "Max(|Len(A) - Len(D)|)                8.0\n",
       "Name: test, dtype: object"
      ]
     },
     "execution_count": 34,
     "metadata": {},
     "output_type": "execute_result"
    }
   ],
   "source": [
    "df = pd.Series(final_dict, name=data_name)\n",
    "df"
   ]
  },
  {
   "cell_type": "code",
   "execution_count": 35,
   "metadata": {},
   "outputs": [],
   "source": [
    "df.to_csv(file_output)"
   ]
  },
  {
   "cell_type": "code",
   "execution_count": null,
   "metadata": {},
   "outputs": [],
   "source": []
  }
 ],
 "metadata": {
  "kernelspec": {
   "display_name": "id2223",
   "language": "python",
   "name": "python3"
  },
  "language_info": {
   "codemirror_mode": {
    "name": "ipython",
    "version": 3
   },
   "file_extension": ".py",
   "mimetype": "text/x-python",
   "name": "python",
   "nbconvert_exporter": "python",
   "pygments_lexer": "ipython3",
   "version": "3.8.13"
  },
  "orig_nbformat": 4
 },
 "nbformat": 4,
 "nbformat_minor": 2
}
