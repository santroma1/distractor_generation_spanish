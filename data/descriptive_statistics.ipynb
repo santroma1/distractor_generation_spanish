{
 "cells": [
  {
   "cell_type": "code",
   "execution_count": 334,
   "metadata": {},
   "outputs": [],
   "source": [
    "import numpy as np\n",
    "import pandas as pd\n",
    "import json"
   ]
  },
  {
   "cell_type": "code",
   "execution_count": 335,
   "metadata": {},
   "outputs": [],
   "source": [
    "# file_name = \"train.json\"\n",
    "# file_output = \"train_stats.csv\""
   ]
  },
  {
   "cell_type": "code",
   "execution_count": 336,
   "metadata": {},
   "outputs": [],
   "source": [
    "file_name = \"dev.json\"\n",
    "file_output = \"dev_stats.csv\""
   ]
  },
  {
   "cell_type": "code",
   "execution_count": 337,
   "metadata": {},
   "outputs": [],
   "source": [
    "# file_name = \"test.json\"\n",
    "# file_output = \"test_stats.csv\""
   ]
  },
  {
   "cell_type": "code",
   "execution_count": 338,
   "metadata": {},
   "outputs": [],
   "source": [
    "f = open(file_name)\n",
    "data = json.load(f)\n",
    "f.close()"
   ]
  },
  {
   "cell_type": "code",
   "execution_count": 339,
   "metadata": {},
   "outputs": [],
   "source": [
    "arr = data['data']\n",
    "N = len(arr)"
   ]
  },
  {
   "cell_type": "code",
   "execution_count": 340,
   "metadata": {},
   "outputs": [],
   "source": [
    "final_dict = {}"
   ]
  },
  {
   "attachments": {},
   "cell_type": "markdown",
   "metadata": {},
   "source": [
    "#### NUmber of texts"
   ]
  },
  {
   "cell_type": "code",
   "execution_count": 341,
   "metadata": {},
   "outputs": [
    {
     "data": {
      "text/plain": [
       "95"
      ]
     },
     "execution_count": 341,
     "metadata": {},
     "output_type": "execute_result"
    }
   ],
   "source": [
    "text_set = set()\n",
    "for element in arr:\n",
    "    text_set.add(element[\"context\"])\n",
    "\n",
    "n_texts = len(text_set)\n",
    "final_dict[\"# of texts\"] = n_texts\n",
    "n_texts"
   ]
  },
  {
   "attachments": {},
   "cell_type": "markdown",
   "metadata": {},
   "source": [
    "#### Count Questions"
   ]
  },
  {
   "cell_type": "code",
   "execution_count": 342,
   "metadata": {},
   "outputs": [
    {
     "data": {
      "text/plain": [
       "95"
      ]
     },
     "execution_count": 342,
     "metadata": {},
     "output_type": "execute_result"
    }
   ],
   "source": [
    "n_questions = len(arr)\n",
    "final_dict[\"# of MCQs\"] = n_questions\n",
    "n_questions"
   ]
  },
  {
   "attachments": {},
   "cell_type": "markdown",
   "metadata": {},
   "source": [
    "#### One answer per choice"
   ]
  },
  {
   "cell_type": "code",
   "execution_count": 343,
   "metadata": {},
   "outputs": [],
   "source": [
    "n_answers = np.zeros(N)\n",
    "for idx, element in enumerate(arr):\n",
    "    choices = element[\"choices\"]\n",
    "    n_ans = 0  \n",
    "    for choice in choices:\n",
    "        if choice[\"type\"] == \"correct answer\":\n",
    "            n_ans +=1\n",
    "    n_answers[idx] = n_ans"
   ]
  },
  {
   "cell_type": "code",
   "execution_count": 344,
   "metadata": {},
   "outputs": [
    {
     "data": {
      "text/plain": [
       "array([1., 1., 1., 1., 1., 1., 1., 1., 1., 1., 1., 1., 1., 1., 1., 1., 1.,\n",
       "       1., 1., 1., 1., 1., 1., 1., 1., 1., 1., 1., 1., 1., 1., 1., 1., 1.,\n",
       "       1., 1., 1., 1., 1., 1., 1., 1., 1., 1., 1., 1., 1., 1., 1., 1., 1.,\n",
       "       1., 1., 1., 1., 1., 1., 1., 1., 1., 1., 1., 1., 1., 1., 1., 1., 1.,\n",
       "       1., 1., 1., 1., 1., 1., 1., 1., 1., 1., 1., 1., 1., 1., 1., 1., 1.,\n",
       "       1., 1., 1., 1., 1., 1., 1., 1., 1., 1.])"
      ]
     },
     "execution_count": 344,
     "metadata": {},
     "output_type": "execute_result"
    }
   ],
   "source": [
    "n_answers"
   ]
  },
  {
   "cell_type": "code",
   "execution_count": 345,
   "metadata": {},
   "outputs": [],
   "source": [
    "for element in n_answers:\n",
    "    assert element == 1"
   ]
  },
  {
   "attachments": {},
   "cell_type": "markdown",
   "metadata": {},
   "source": [
    "#### Number of distractors"
   ]
  },
  {
   "cell_type": "code",
   "execution_count": 346,
   "metadata": {},
   "outputs": [],
   "source": [
    "n_distractors = np.zeros(N)\n",
    "for idx, element in enumerate(arr):\n",
    "    choices = element[\"choices\"]\n",
    "    n_dist = 0 \n",
    "    for choice in choices:\n",
    "        if choice[\"type\"] == \"distractor\":\n",
    "            n_dist +=1\n",
    "    assert n_dist < 5\n",
    "    n_distractors[idx] = n_dist"
   ]
  },
  {
   "cell_type": "code",
   "execution_count": 347,
   "metadata": {},
   "outputs": [
    {
     "data": {
      "text/plain": [
       "array([4., 3., 2., 3., 3., 4., 3., 4., 4., 3., 4., 4., 3., 4., 2., 4., 4.,\n",
       "       2., 4., 4., 2., 2., 3., 3., 4., 4., 4., 3., 3., 3., 3., 3., 3., 4.,\n",
       "       3., 2., 4., 3., 4., 4., 4., 4., 4., 2., 3., 3., 3., 4., 3., 2., 3.,\n",
       "       3., 4., 3., 3., 3., 4., 3., 4., 4., 4., 4., 3., 2., 3., 3., 2., 3.,\n",
       "       4., 3., 4., 3., 4., 3., 2., 3., 4., 2., 3., 3., 3., 4., 3., 3., 3.,\n",
       "       3., 4., 3., 4., 3., 3., 2., 4., 3., 2.])"
      ]
     },
     "execution_count": 347,
     "metadata": {},
     "output_type": "execute_result"
    }
   ],
   "source": [
    "n_distractors"
   ]
  },
  {
   "cell_type": "code",
   "execution_count": 348,
   "metadata": {},
   "outputs": [],
   "source": [
    "n_dist_mean = np.mean(n_distractors)\n",
    "n_dist_std = np.std(n_distractors)"
   ]
  },
  {
   "cell_type": "code",
   "execution_count": 349,
   "metadata": {},
   "outputs": [
    {
     "name": "stdout",
     "output_type": "stream",
     "text": [
      "3.231578947368421\n",
      "0.6875223491708603\n"
     ]
    },
    {
     "data": {
      "text/plain": [
       "'3.23 +- 0.69'"
      ]
     },
     "execution_count": 349,
     "metadata": {},
     "output_type": "execute_result"
    }
   ],
   "source": [
    "print(n_dist_mean)\n",
    "print(n_dist_std)\n",
    "final_dict[\"# of D\"] = f\"{n_dist_mean:0.2f} +- {n_dist_std:0.2f}\"\n",
    "final_dict[\"# of D\"]"
   ]
  },
  {
   "attachments": {},
   "cell_type": "markdown",
   "metadata": {},
   "source": [
    "### Length of texts"
   ]
  },
  {
   "cell_type": "code",
   "execution_count": 350,
   "metadata": {},
   "outputs": [],
   "source": [
    "def count_words(_string):\n",
    "    arr = _string.split(\" \")\n",
    "    return len(arr)"
   ]
  },
  {
   "cell_type": "code",
   "execution_count": 351,
   "metadata": {},
   "outputs": [
    {
     "data": {
      "text/plain": [
       "array([109., 211., 103., 126., 101., 226., 194., 155., 144., 174.,  95.,\n",
       "       106., 103., 178., 151., 195., 144., 159., 219., 169., 146., 110.,\n",
       "       203., 114., 248., 144., 211., 155., 108., 222., 140., 157., 174.,\n",
       "       157., 141., 141., 225., 203., 236., 208., 125., 216., 147., 143.,\n",
       "        95., 113., 185.,  56., 201., 202., 102., 116., 217., 247., 110.,\n",
       "        86., 120., 137., 169., 117., 162., 134., 117.,  92.,  94., 122.,\n",
       "       199.,  75., 170., 129., 297., 169., 261., 118., 218., 173., 162.,\n",
       "       215.,  78., 222., 173., 121., 209., 147., 134., 113., 197.,  81.,\n",
       "       174., 195., 152., 113., 152., 279., 197.])"
      ]
     },
     "execution_count": 351,
     "metadata": {},
     "output_type": "execute_result"
    }
   ],
   "source": [
    "len_texts = np.zeros(N)\n",
    "for idx, element in enumerate(arr):\n",
    "    context = element[\"context\"]\n",
    "    len_texts[idx] = count_words(context)\n",
    "\n",
    "len_texts"
   ]
  },
  {
   "cell_type": "code",
   "execution_count": 352,
   "metadata": {},
   "outputs": [
    {
     "data": {
      "text/plain": [
       "297.0"
      ]
     },
     "execution_count": 352,
     "metadata": {},
     "output_type": "execute_result"
    }
   ],
   "source": [
    "max_length_text = np.max(len_texts)\n",
    "max_length_text"
   ]
  },
  {
   "cell_type": "code",
   "execution_count": 353,
   "metadata": {},
   "outputs": [
    {
     "name": "stdout",
     "output_type": "stream",
     "text": [
      "158.45263157894738\n",
      "49.52973979998017\n"
     ]
    }
   ],
   "source": [
    "text_mean = np.mean(len_texts)\n",
    "text_std = np.std(len_texts)\n",
    "print(text_mean)\n",
    "print(text_std)"
   ]
  },
  {
   "cell_type": "code",
   "execution_count": 354,
   "metadata": {},
   "outputs": [
    {
     "data": {
      "text/plain": [
       "'158.45 +- 49.53'"
      ]
     },
     "execution_count": 354,
     "metadata": {},
     "output_type": "execute_result"
    }
   ],
   "source": [
    "final_dict[\"Len(Text)\"] = f\"{text_mean:0.2f} +- {text_std:0.2f}\"\n",
    "final_dict[\"Max(Text)\"] = max_length_text\n",
    "final_dict[\"Len(Text)\"]"
   ]
  },
  {
   "attachments": {},
   "cell_type": "markdown",
   "metadata": {},
   "source": [
    "#### Length of answers"
   ]
  },
  {
   "cell_type": "code",
   "execution_count": 355,
   "metadata": {},
   "outputs": [
    {
     "data": {
      "text/plain": [
       "array([ 2., 14.,  2., 12.,  1.,  2., 16.,  6.,  1.,  3.,  3.,  1., 14.,\n",
       "        2.,  7.,  9.,  2.,  1.,  1.,  4.,  1.,  5.,  8.,  1.,  2.,  1.,\n",
       "       10.,  2., 13., 15.,  2., 10.,  1.,  2.,  3., 11.,  2., 17.,  7.,\n",
       "        5.,  1.,  4.,  8.,  7.,  2.,  2.,  2.,  3.,  1.,  4.,  4., 10.,\n",
       "        6., 22.,  7.,  1.,  6., 11.,  2.,  6.,  3.,  1.,  9.,  1.,  2.,\n",
       "        2.,  2.,  6., 11.,  1., 10.,  8.,  8.,  5., 14.,  5.,  1.,  1.,\n",
       "        5.,  6.,  4.,  2., 11.,  3.,  6.,  2., 12.,  1.,  3.,  2.,  9.,\n",
       "        1.,  2., 15., 14.])"
      ]
     },
     "execution_count": 355,
     "metadata": {},
     "output_type": "execute_result"
    }
   ],
   "source": [
    "len_answers = np.zeros(N)\n",
    "for idx, element in enumerate(arr):\n",
    "    choices = element[\"choices\"]\n",
    "    for choice in choices:\n",
    "        if choice[\"type\"] == \"correct answer\":\n",
    "            ans = choice[\"text\"]\n",
    "            len_answers[idx] = count_words(ans)\n",
    "\n",
    "len_answers"
   ]
  },
  {
   "cell_type": "code",
   "execution_count": 356,
   "metadata": {},
   "outputs": [
    {
     "data": {
      "text/plain": [
       "22.0"
      ]
     },
     "execution_count": 356,
     "metadata": {},
     "output_type": "execute_result"
    }
   ],
   "source": [
    "max_length_ans = np.max(len_answers)\n",
    "max_length_ans"
   ]
  },
  {
   "cell_type": "code",
   "execution_count": 357,
   "metadata": {},
   "outputs": [
    {
     "name": "stdout",
     "output_type": "stream",
     "text": [
      "5.4526315789473685\n",
      "4.698865307715832\n"
     ]
    }
   ],
   "source": [
    "ans_mean = np.mean(len_answers)\n",
    "ans_std = np.std(len_answers)\n",
    "print(ans_mean)\n",
    "print(ans_std)"
   ]
  },
  {
   "cell_type": "code",
   "execution_count": 358,
   "metadata": {},
   "outputs": [
    {
     "data": {
      "text/plain": [
       "'5.45 +- 4.70'"
      ]
     },
     "execution_count": 358,
     "metadata": {},
     "output_type": "execute_result"
    }
   ],
   "source": [
    "final_dict[\"Len(A)\"] = f\"{ans_mean:0.2f} +- {ans_std:0.2f}\"\n",
    "final_dict[\"Max(A)\"] = max_length_ans\n",
    "final_dict[\"Len(A)\"]"
   ]
  },
  {
   "attachments": {},
   "cell_type": "markdown",
   "metadata": {},
   "source": [
    "#### Length of distractors"
   ]
  },
  {
   "cell_type": "code",
   "execution_count": 359,
   "metadata": {},
   "outputs": [
    {
     "data": {
      "text/plain": [
       "array([ 2,  2,  2,  2, 12, 23,  8,  3,  2,  8,  5, 12,  1,  1,  1,  1,  1,\n",
       "        2,  1, 16, 24, 18,  4,  9,  4,  8,  1,  1,  1,  1,  1,  1,  2,  7,\n",
       "       13,  7,  3,  1,  1,  1,  1,  7,  4,  5,  3,  2,  2,  3, 10, 10, 12,\n",
       "       22, 13, 17,  3,  2,  2,  2,  1,  2,  1,  2,  1,  1,  3,  2,  3,  5,\n",
       "        1,  1,  7, 11,  9,  8,  8,  1,  1,  1,  4,  2,  2,  2,  1,  1,  1,\n",
       "        1, 19, 18, 13, 21,  2,  2,  2, 10,  6,  8, 11, 14, 25,  2,  4,  2,\n",
       "        7, 12,  7,  1,  1,  1,  3,  2,  3,  2,  2,  2,  2, 10, 24,  2,  2,\n",
       "        2,  2,  6, 13,  7, 22, 12, 19, 11,  5,  5,  5,  3,  1,  1,  1,  1,\n",
       "        2,  6,  5,  4,  2,  8,  5,  5,  8,  9,  2,  2,  1,  2,  6,  5,  4,\n",
       "        2,  2,  1,  3,  2,  3,  1,  1,  1,  4,  4,  2,  2,  3,  8,  6, 11,\n",
       "        3,  7,  6,  5, 16,  7, 12,  7,  7,  5,  1,  1,  1,  6,  6,  6,  6,\n",
       "       23, 11,  7,  3,  2,  3,  2,  6,  6,  6,  6,  4,  4,  3,  3,  1,  2,\n",
       "        3,  3,  7,  7, 13,  1,  1,  2,  2,  2,  4,  2,  2,  3,  4,  6,  6,\n",
       "        6,  8, 17, 13, 12,  1,  1,  1, 10, 15, 19, 16,  4,  5,  5,  3,  4,\n",
       "       11,  3,  4,  5,  8,  8, 11, 10,  4,  4,  1,  1,  1,  1,  1,  1,  6,\n",
       "        1,  8,  5,  7, 10,  4,  4,  3,  2,  2,  4,  2, 13, 32, 14,  3,  2,\n",
       "        1,  7,  4,  7,  2,  2,  3, 11,  8,  3,  3,  1,  1,  3,  7,  3,  7,\n",
       "        3,  4,  3,  2, 18, 14,  6,  2,  1,  2,  2,  2,  2, 15, 26, 19, 11,\n",
       "       15])"
      ]
     },
     "execution_count": 359,
     "metadata": {},
     "output_type": "execute_result"
    }
   ],
   "source": [
    "len_distractors = []\n",
    "for idx, element in enumerate(arr):\n",
    "    choices = element[\"choices\"]\n",
    "    for choice in choices:\n",
    "        if choice[\"type\"] == \"distractor\":\n",
    "            dist = choice[\"text\"]\n",
    "            len_distractors.append(count_words(dist))\n",
    "\n",
    "len_distractors = np.array(len_distractors)\n",
    "len_distractors"
   ]
  },
  {
   "cell_type": "code",
   "execution_count": 360,
   "metadata": {},
   "outputs": [
    {
     "data": {
      "text/plain": [
       "32"
      ]
     },
     "execution_count": 360,
     "metadata": {},
     "output_type": "execute_result"
    }
   ],
   "source": [
    "max_length_dist = np.max(len_distractors)\n",
    "max_length_dist"
   ]
  },
  {
   "cell_type": "code",
   "execution_count": 361,
   "metadata": {},
   "outputs": [
    {
     "name": "stdout",
     "output_type": "stream",
     "text": [
      "5.615635179153094\n",
      "5.529501851010265\n"
     ]
    }
   ],
   "source": [
    "dist_mean = np.mean(len_distractors)\n",
    "dist_std = np.std(len_distractors)\n",
    "print(dist_mean)\n",
    "print(dist_std)"
   ]
  },
  {
   "cell_type": "code",
   "execution_count": 362,
   "metadata": {},
   "outputs": [
    {
     "data": {
      "text/plain": [
       "'5.62 +- 5.53'"
      ]
     },
     "execution_count": 362,
     "metadata": {},
     "output_type": "execute_result"
    }
   ],
   "source": [
    "final_dict[\"Len(D)\"] = f\"{dist_mean:0.2f} +- {dist_std:0.2f}\"\n",
    "final_dict[\"Max(D)\"] = max_length_dist\n",
    "final_dict[\"Len(D)\"]"
   ]
  },
  {
   "attachments": {},
   "cell_type": "markdown",
   "metadata": {},
   "source": [
    "### Diference ans and Dist"
   ]
  },
  {
   "cell_type": "code",
   "execution_count": 363,
   "metadata": {},
   "outputs": [
    {
     "data": {
      "text/plain": [
       "array([ 0.        ,  5.66666667,  0.5       ,  3.66666667,  0.        ,\n",
       "        0.75      ,  3.33333333,  2.25      ,  0.        ,  1.66666667,\n",
       "        4.5       ,  0.        ,  8.66666667,  0.5       ,  3.        ,\n",
       "        7.        ,  0.25      ,  0.5       ,  0.25      ,  1.25      ,\n",
       "        0.        ,  4.        ,  0.33333333,  0.        ,  0.5       ,\n",
       "        0.        ,  7.75      ,  0.        ,  5.        ,  5.        ,\n",
       "        0.66666667,  2.66666667,  0.        ,  0.5       ,  1.        ,\n",
       "        7.        ,  0.        ,  8.33333333,  9.        ,  0.5       ,\n",
       "        0.        ,  1.25      ,  3.        ,  1.5       ,  0.33333333,\n",
       "        2.33333333,  0.66666667,  0.75      ,  0.        ,  0.        ,\n",
       "        1.66666667,  2.33333333,  1.25      , 10.33333333,  0.66666667,\n",
       "        0.        ,  0.        ,  5.33333333,  0.5       ,  0.        ,\n",
       "        0.5       ,  1.25      ,  2.66666667,  0.        ,  0.        ,\n",
       "        0.66666667,  1.5       ,  0.        ,  3.        ,  0.        ,\n",
       "        5.        ,  3.33333333,  4.25      ,  1.33333333,  4.5       ,\n",
       "        2.33333333,  0.        ,  0.        ,  2.66666667,  2.        ,\n",
       "        0.33333333,  0.5       ,  8.66666667,  1.        ,  1.33333333,\n",
       "        0.33333333,  5.75      ,  0.66666667,  2.        ,  1.        ,\n",
       "        5.66666667,  0.5       ,  0.        ,  5.        ,  2.        ])"
      ]
     },
     "execution_count": 363,
     "metadata": {},
     "output_type": "execute_result"
    }
   ],
   "source": [
    "len_differences = []\n",
    "for idx, element in enumerate(arr):\n",
    "    choices = element[\"choices\"]\n",
    "    dists_length = []\n",
    "    for choice in choices:\n",
    "        if choice[\"type\"] == \"correct answer\":\n",
    "            ans = choice[\"text\"]\n",
    "            ans_length = count_words(ans)\n",
    "        if choice[\"type\"] == \"distractor\":\n",
    "            dist = choice[\"text\"]\n",
    "            dists_length.append(count_words(dist))\n",
    "    \n",
    "    arr_diff = np.array([abs(ans_length-x) for x in dists_length])\n",
    "    diff = np.mean(arr_diff)\n",
    "    len_differences.append(diff)\n",
    "\n",
    "len_differences = np.array(len_differences)\n",
    "len_differences"
   ]
  },
  {
   "cell_type": "code",
   "execution_count": 364,
   "metadata": {},
   "outputs": [
    {
     "data": {
      "text/plain": [
       "10.333333333333334"
      ]
     },
     "execution_count": 364,
     "metadata": {},
     "output_type": "execute_result"
    }
   ],
   "source": [
    "max_length_diff = np.max(len_differences)\n",
    "max_length_diff"
   ]
  },
  {
   "cell_type": "code",
   "execution_count": 365,
   "metadata": {},
   "outputs": [
    {
     "name": "stdout",
     "output_type": "stream",
     "text": [
      "2.0807017543859647\n",
      "2.515607789079302\n"
     ]
    }
   ],
   "source": [
    "diff_mean = np.mean(len_differences)\n",
    "diff_std = np.std(len_differences)\n",
    "print(diff_mean)\n",
    "print(diff_std)"
   ]
  },
  {
   "cell_type": "code",
   "execution_count": 366,
   "metadata": {},
   "outputs": [
    {
     "data": {
      "text/plain": [
       "'2.08 +- 2.52'"
      ]
     },
     "execution_count": 366,
     "metadata": {},
     "output_type": "execute_result"
    }
   ],
   "source": [
    "final_dict[\"|Len(A) - Len(D)|\"] = f\"{diff_mean:0.2f} +- {diff_std:0.2f}\"\n",
    "final_dict[\"Max(|Len(A) - Len(D)|)\"] = max_length_diff\n",
    "final_dict[\"|Len(A) - Len(D)|\"]"
   ]
  },
  {
   "attachments": {},
   "cell_type": "markdown",
   "metadata": {},
   "source": [
    "# Final CSV"
   ]
  },
  {
   "cell_type": "code",
   "execution_count": 367,
   "metadata": {},
   "outputs": [
    {
     "data": {
      "text/plain": [
       "# of texts                             95\n",
       "# of MCQs                              95\n",
       "# of D                       3.23 +- 0.69\n",
       "Len(Text)                 158.45 +- 49.53\n",
       "Max(Text)                           297.0\n",
       "Len(A)                       5.45 +- 4.70\n",
       "Max(A)                               22.0\n",
       "Len(D)                       5.62 +- 5.53\n",
       "Max(D)                                 32\n",
       "|Len(A) - Len(D)|            2.08 +- 2.52\n",
       "Max(|Len(A) - Len(D)|)          10.333333\n",
       "dtype: object"
      ]
     },
     "execution_count": 367,
     "metadata": {},
     "output_type": "execute_result"
    }
   ],
   "source": [
    "df = pd.Series(final_dict)\n",
    "df"
   ]
  },
  {
   "cell_type": "code",
   "execution_count": null,
   "metadata": {},
   "outputs": [],
   "source": []
  }
 ],
 "metadata": {
  "kernelspec": {
   "display_name": "id2223",
   "language": "python",
   "name": "python3"
  },
  "language_info": {
   "codemirror_mode": {
    "name": "ipython",
    "version": 3
   },
   "file_extension": ".py",
   "mimetype": "text/x-python",
   "name": "python",
   "nbconvert_exporter": "python",
   "pygments_lexer": "ipython3",
   "version": "3.8.13"
  },
  "orig_nbformat": 4
 },
 "nbformat": 4,
 "nbformat_minor": 2
}
